{
 "cells": [
  {
   "cell_type": "markdown",
   "id": "7d543cb6",
   "metadata": {},
   "source": [
    "# Anonymous OR Lambda Functions"
   ]
  },
  {
   "cell_type": "markdown",
   "id": "bc0d4a18",
   "metadata": {},
   "source": [
    "* Anonymous Functions are those which does not contain any name explicitly (Un-known).\n",
    "* The purpose of Anonymous Functions is that \" To Perform Instant Operations\".\n",
    "* Instant Operations are those which are using at that point time only and no longer interested to re-use in other part of the project / application.\n",
    "* Anonymous Functions are containing single executable statement but not multiple executable statements.\n",
    "* Anonymous Functions automatically OR Implicitly returns the Result (no need to use return statement).\n",
    "* To Define Anonymous Functions, we use a keyword called \"lambda\" and Anonymous Functions are also \n",
    "    called Lambda Functions"
   ]
  },
  {
   "cell_type": "markdown",
   "id": "72f438fb",
   "metadata": {},
   "source": [
    "**Syntax:**    varname=lambda params-list : Expression\n"
   ]
  },
  {
   "cell_type": "markdown",
   "id": "0fed2b7e",
   "metadata": {},
   "source": [
    "**Explaination:**\n",
    "* varname represents an object of type <class,'fucntion'>\n",
    "* lambda  is a keyword which is used for defining  Anonymous Function\n",
    "* params-list represents list of formal params which are used for storing Values coming from Function calls.\n",
    "* Expression reprsents single executable statement which provides logic for Instant Operations. Here PVM \n",
    "    executes single  executable statement and whose result returns Automatically / Implcitily (no need to return statement)\n"
   ]
  },
  {
   "cell_type": "code",
   "execution_count": 3,
   "id": "124f8ed2",
   "metadata": {},
   "outputs": [
    {
     "name": "stdout",
     "output_type": "stream",
     "text": [
      "[1, 2, 3, 1, 5, 6, 8]\n"
     ]
    }
   ],
   "source": [
    "sumop=lambda a,b:a+b # Anonymous Function\n",
    "\n",
    "res=sumop(a=[1,2,3],b=[1,5,6,8])\n",
    "print(res)\n"
   ]
  },
  {
   "cell_type": "code",
   "execution_count": 4,
   "id": "72c8da89",
   "metadata": {},
   "outputs": [
    {
     "data": {
      "text/plain": [
       "'odd'"
      ]
     },
     "execution_count": 4,
     "metadata": {},
     "output_type": "execute_result"
    }
   ],
   "source": [
    "x=5\n",
    "'even' if x%2==0 else 'odd'"
   ]
  },
  {
   "cell_type": "code",
   "execution_count": 9,
   "id": "1214012e",
   "metadata": {},
   "outputs": [
    {
     "data": {
      "text/plain": [
       "([2, 4, 6, 8, 10], [1, 3, 5, 7, 9])"
      ]
     },
     "execution_count": 9,
     "metadata": {},
     "output_type": "execute_result"
    }
   ],
   "source": [
    "(lambda x,y :([ele for ele in range(x,y+1) if ele%2==0],[ele for ele in range(x,y+1) if ele % 2!=0]))(1,10)"
   ]
  },
  {
   "cell_type": "markdown",
   "id": "f82dadfd",
   "metadata": {},
   "source": [
    "# map"
   ]
  },
  {
   "cell_type": "markdown",
   "id": "426a94e1",
   "metadata": {},
   "source": [
    "* map() is used for obtaining new Iterable object from existing iterable object by applying old iterable elements to the function.\n",
    "* In otherwords, map() is used for obtaining new list of elements  from  existing list of elements by applying old list  elements to the function.\n",
    "\n",
    "**Syntax:**      varname=map(FunctionName,Iterable_object)\n"
   ]
  },
  {
   "cell_type": "markdown",
   "id": "4bbc7d83",
   "metadata": {},
   "source": [
    "* here 'varname' is an object of type <class,map'> and we can convert into any iteratable object by using type casting functions.\n",
    "* \"FunctionName\" represents either Normal function or anonymous functions.\n",
    "* \"Iterable_object\" represents Sequence, List, set and dict types.\n",
    "* The execution process of map() is that \" map() sends every element of iterable object to the specified function, process it and returns the modified value (result) and new list of elements will be obtained\". This process will be continued until all elements of Iterable_object completed"
   ]
  },
  {
   "cell_type": "code",
   "execution_count": 11,
   "id": "0d3aa9eb",
   "metadata": {},
   "outputs": [
    {
     "data": {
      "text/plain": [
       "[97, 98, 99]"
      ]
     },
     "execution_count": 11,
     "metadata": {},
     "output_type": "execute_result"
    }
   ],
   "source": [
    "z=map(ord,'abc')\n",
    "list(z)"
   ]
  },
  {
   "cell_type": "code",
   "execution_count": 19,
   "id": "f0fee453",
   "metadata": {},
   "outputs": [
    {
     "name": "stdout",
     "output_type": "stream",
     "text": [
      "1 5 6 3\n",
      "Square List= [1, 25, 36, 9]\n"
     ]
    }
   ],
   "source": [
    "squares=lambda n: n**2\n",
    "\n",
    "lst=[int(val) for val in input().split()]\n",
    "sqlist=list(map(squares,lst))\n",
    "\n",
    "\n",
    "\n",
    "print(\"Square List=\",sqlist)"
   ]
  },
  {
   "cell_type": "code",
   "execution_count": 25,
   "id": "f0f22e4b",
   "metadata": {},
   "outputs": [
    {
     "name": "stdout",
     "output_type": "stream",
     "text": [
      "5\n",
      "[3125]\n"
     ]
    }
   ],
   "source": [
    "lst=[int(val) for val in input().split()]\n",
    "power_of=list(map(lambda x: x**x,lst))\n",
    "print(power_of)\n"
   ]
  },
  {
   "cell_type": "code",
   "execution_count": 14,
   "id": "9ff7df8b",
   "metadata": {},
   "outputs": [
    {
     "data": {
      "text/plain": [
       "<map at 0x1cdf485a280>"
      ]
     },
     "execution_count": 14,
     "metadata": {},
     "output_type": "execute_result"
    }
   ],
   "source": [
    "z=map(lambda x:x/0,[1,2,3])\n",
    "z"
   ]
  },
  {
   "cell_type": "code",
   "execution_count": 20,
   "id": "ec1e35d9",
   "metadata": {},
   "outputs": [
    {
     "data": {
      "text/plain": [
       "[11, 22, 33]"
      ]
     },
     "execution_count": 20,
     "metadata": {},
     "output_type": "execute_result"
    }
   ],
   "source": [
    "list(map(lambda x,y : x+y,[1,2,3],[10,20,30]))"
   ]
  },
  {
   "cell_type": "markdown",
   "id": "f6652eb0",
   "metadata": {},
   "source": [
    "#  filter():"
   ]
  },
  {
   "cell_type": "markdown",
   "id": "c4de6313",
   "metadata": {},
   "source": [
    "* filter() is used for  \"Filtering out some elements from list of elements by applying to function\".\n",
    "**Syntax:**        varname=filter(FunctionName, Iterable_object)\n"
   ]
  },
  {
   "cell_type": "markdown",
   "id": "59d946f7",
   "metadata": {},
   "source": [
    "**Explanation:**\n",
    "\n",
    "* here 'varname' is an object of type <class,'filter'> and we can convert into any iteratable object by using type casting functions.\n",
    "* \"FunctionName\" represents either Normal function or anonymous functions.\n",
    "* \"Iterable_object\" represents Sequence, List, set and dict types.\n",
    "* The execution process of filter() is that  \" Each Value of Iterable object sends to Function Name. If the function return True then the element will be filtered. if the Function returns False then that element will be neglected/not filtered \". This process will be continued until all elements of Iterable object completed.\n"
   ]
  },
  {
   "cell_type": "code",
   "execution_count": 29,
   "id": "7e8d22a9",
   "metadata": {},
   "outputs": [
    {
     "data": {
      "text/plain": [
       "[6]"
      ]
     },
     "execution_count": 29,
     "metadata": {},
     "output_type": "execute_result"
    }
   ],
   "source": [
    "list(filter(lambda x:True if x%2==0 else False,[1,5,3,6,89,]))"
   ]
  },
  {
   "cell_type": "code",
   "execution_count": 30,
   "id": "e70478f1",
   "metadata": {},
   "outputs": [
    {
     "data": {
      "text/plain": [
       "['a', 'A']"
      ]
     },
     "execution_count": 30,
     "metadata": {},
     "output_type": "execute_result"
    }
   ],
   "source": [
    "\n",
    "list(filter(lambda x:True if x in 'aeiouAEIOU' else False, 'PavAn'))"
   ]
  },
  {
   "cell_type": "code",
   "execution_count": 33,
   "id": "279c4999",
   "metadata": {},
   "outputs": [
    {
     "data": {
      "text/plain": [
       "['s', 'p', 'f', 's', 'f', '5', '3', '6']"
      ]
     },
     "execution_count": 33,
     "metadata": {},
     "output_type": "execute_result"
    }
   ],
   "source": [
    "list(filter(lambda x: True if x.isalnum() else False, 'sp%$#fsf536'))"
   ]
  },
  {
   "cell_type": "code",
   "execution_count": 34,
   "id": "cdefba4f",
   "metadata": {},
   "outputs": [
    {
     "data": {
      "text/plain": [
       "['%', '$', '#']"
      ]
     },
     "execution_count": 34,
     "metadata": {},
     "output_type": "execute_result"
    }
   ],
   "source": [
    "list(filter(lambda x: True if x.isalnum() is False else False, 'sp%$#fsf536'))"
   ]
  },
  {
   "cell_type": "markdown",
   "id": "6f0bc661",
   "metadata": {},
   "source": [
    "# reduce()"
   ]
  },
  {
   "cell_type": "markdown",
   "id": "64396f8d",
   "metadata": {},
   "source": [
    "* reduce() is used for obtaining a single element / result from given iterable object by applying to a function.\n",
    "* **Syntax:**\n",
    "\t\tvarname=reduce(function-name,iterable-object)\n",
    "* here varname is an object of int, float,bool,complex,str only\n",
    "* The reduce() belongs to a pre-defined module called\" functools\".\n",
    "\n",
    "**Internal Flow of reduce()**\n",
    "\n",
    "* step-1:- Initially, reduce() selects  First Two values of Iterable object and place them in First var and Second var .\n",
    "* step-2:- The function-name(lambda or normal function) utilizes the values of First var and Second var and applied to the specified logic and obtains the result.\n",
    "* Step-3:- reduce () places the result of function-name in First variable and reduce() selects the succeeding element of Iterable object and places in second variable.\n",
    "* Step-4: Repeat  Step-2 and Step-3 until all elements completed in Iterable object and returns the result of First Variable.\n"
   ]
  },
  {
   "cell_type": "code",
   "execution_count": 5,
   "id": "9cf168a5",
   "metadata": {},
   "outputs": [
    {
     "data": {
      "text/plain": [
       "73"
      ]
     },
     "execution_count": 5,
     "metadata": {},
     "output_type": "execute_result"
    }
   ],
   "source": [
    "import functools\n",
    "res=functools.reduce(lambda x,y : x+y ,[10,50,4,3,6])\n",
    "res\n"
   ]
  },
  {
   "cell_type": "code",
   "execution_count": 7,
   "id": "5ffd5636",
   "metadata": {},
   "outputs": [
    {
     "data": {
      "text/plain": [
       "'p a v a n   k u m a r'"
      ]
     },
     "execution_count": 7,
     "metadata": {},
     "output_type": "execute_result"
    }
   ],
   "source": [
    "line=functools.reduce(lambda x,y : x+' '+y,'pavan kumar')\n",
    "line"
   ]
  },
  {
   "cell_type": "code",
   "execution_count": null,
   "id": "4d9788d2",
   "metadata": {},
   "outputs": [],
   "source": []
  }
 ],
 "metadata": {
  "kernelspec": {
   "display_name": "Python 3 (ipykernel)",
   "language": "python",
   "name": "python3"
  },
  "language_info": {
   "codemirror_mode": {
    "name": "ipython",
    "version": 3
   },
   "file_extension": ".py",
   "mimetype": "text/x-python",
   "name": "python",
   "nbconvert_exporter": "python",
   "pygments_lexer": "ipython3",
   "version": "3.9.13"
  }
 },
 "nbformat": 4,
 "nbformat_minor": 5
}
